{
 "cells": [
  {
   "cell_type": "markdown",
   "metadata": {},
   "source": [
    "# **CDX Analysis with Apache Spark**\n"
   ]
  },
  {
   "cell_type": "markdown",
   "metadata": {},
   "source": [
    "####This notebook is broken up into sections with bite-sized examples for demonstrating Spark functionality for CDX processing. We'll be using the various [RDD](http://spark.apache.org/docs/latest/api/python/pyspark.html#pyspark.RDD) operations along with [`lambda` functions](https://docs.python.org/2/tutorial/controlflow.html#lambda-expressions) that are applied at each worker.\n",
    " \n",
    "####This notebook consists of 4 parts:\n",
    "#### *Part 1*: CDX file format\n",
    "#### *Part 2*: Sample Analyses on the CDX File\n",
    "#### *Part 3*: Analyzing CDX File"
   ]
  },
  {
   "cell_type": "markdown",
   "metadata": {},
   "source": [
    "### **Part 1: CDX file format**\n",
    "####The CDX files that we use are in the [SURT form](https://webarchive.jira.com/wiki/display/Iresearch/SURT+Sorted+CDX+fields). "
   ]
  },
  {
   "cell_type": "markdown",
   "metadata": {},
   "source": [
    "### **(1a) Parsing Each CDX Line**\n",
    "#### If the CDX line fails to match the format, the function returns a pair consisting of the line string and 0.  A '-' value in the content size field is cleaned up by substituting it with 0. The function converts the CDX line's date string into a Python `datetime` object using the given `parse_cdx_time` function."
   ]
  },
  {
   "cell_type": "code",
   "execution_count": 1,
   "metadata": {
    "collapsed": false
   },
   "outputs": [],
   "source": [
    "import re\n",
    "import datetime\n",
    "\n",
    "from pyspark.sql import Row\n",
    "\n",
    "def parse_cdx_time(s):\n",
    "    \"\"\" Convert CDX time format into a Python datetime object\n",
    "    Args:\n",
    "        s (str): date and time in CDX time format\n",
    "    Returns:\n",
    "        datetime: datetime object\n",
    "    \"\"\"\n",
    "    if not s and len(s) != 14:\n",
    "        return None\n",
    "    return datetime.datetime(int(s[0:4]),\n",
    "                             int(s[4:6]),\n",
    "                             int(s[6:8]),\n",
    "                             int(s[8:10]),\n",
    "                             int(s[10:12]),\n",
    "                             int(s[12:14]))\n",
    "\n",
    "def parse_cdx_line(cdx_line):\n",
    "    \"\"\" Parse a CDX line\n",
    "    Args:\n",
    "        cdx_line (str): a line of text in the CDX format\n",
    "    Returns:\n",
    "        tuple: either a dictionary containing the parts of the CDX line and 1,\n",
    "               or the original invalid CDX line and 0\n",
    "    \"\"\"\n",
    "    cdx_parts = cdx_line.split()\n",
    "    if len(cdx_parts) != 11:\n",
    "        return (cdx_line, 0)\n",
    "    if cdx_parts[0] == \"\":\n",
    "        return (cdx_line, 0)\n",
    "    date_time = parse_cdx_time(cdx_parts[1])\n",
    "    if date_time is None:\n",
    "        return (cdx_line, 0)\n",
    "    size_field = cdx_parts[8]\n",
    "    if size_field == '-':\n",
    "        size = int(0)\n",
    "    else:\n",
    "        size = int(size_field)\n",
    "    return (Row(\n",
    "        surt_url        = cdx_parts[0],\n",
    "        timestamp       = date_time,\n",
    "        orig_url        = cdx_parts[2],\n",
    "        mime            = cdx_parts[3],\n",
    "        response_code   = cdx_parts[4],\n",
    "        digest          = cdx_parts[5],\n",
    "        redirect_url    = cdx_parts[6],\n",
    "        meta_tags       = cdx_parts[7],\n",
    "        compressed_size = size,\n",
    "        file_offset     = cdx_parts[9],\n",
    "        file_name       = cdx_parts[10]\n",
    "    ), 1)\n"
   ]
  },
  {
   "cell_type": "markdown",
   "metadata": {},
   "source": [
    "### **(1b) Configuration and Initial RDD Creation**\n",
    "####We are ready to specify the input CDX file and create an RDD containing the parsed CDX file data. \n",
    " \n",
    "####To create the primary RDD that we'll use, we first load the text file using [`sc.textfile(cdx_data)`](http://spark.apache.org/docs/latest/api/python/pyspark.html#pyspark.SparkContext.textFile) to convert each line of the file into an element in an RDD.\n",
    "####Next, we use [`map(parse_cdx_line)`](http://spark.apache.org/docs/latest/api/python/pyspark.html#pyspark.RDD.map) to apply the parse function to each element (that is, a line from the CDX file) in the RDD and turn each line into a pair [`Row` object](http://spark.apache.org/docs/latest/api/python/pyspark.sql.html#pyspark.sql.Row).\n",
    "####Finally, we cache the RDD in memory since we'll use it throughout this notebook."
   ]
  },
  {
   "cell_type": "code",
   "execution_count": 2,
   "metadata": {
    "collapsed": false
   },
   "outputs": [
    {
     "name": "stdout",
     "output_type": "stream",
     "text": [
      "Number of ignored CDX Lines: 1546\n",
      "Ignored CDX Line:  CDX N b a m s k r M S V g\n",
      "Ignored CDX Line:  CDX N b a m s k r M S V g\n",
      "Ignored CDX Line:  CDX N b a m s k r M S V g\n",
      "Ignored CDX Line:  CDX N b a m s k r M S V g\n",
      "Ignored CDX Line:  CDX N b a m s k r M S V g\n",
      "Ignored CDX Line:  CDX N b a m s k r M S V g\n",
      "Ignored CDX Line:  CDX N b a m s k r M S V g\n",
      "Ignored CDX Line:  CDX N b a m s k r M S V g\n",
      "Ignored CDX Line:  CDX N b a m s k r M S V g\n",
      "Ignored CDX Line:  CDX N b a m s k r M S V g\n",
      "Ignored CDX Line:  CDX N b a m s k r M S V g\n",
      "Ignored CDX Line:  CDX N b a m s k r M S V g\n",
      "Ignored CDX Line:  CDX N b a m s k r M S V g\n",
      "Ignored CDX Line:  CDX N b a m s k r M S V g\n",
      "Ignored CDX Line:  CDX N b a m s k r M S V g\n",
      "Ignored CDX Line:  CDX N b a m s k r M S V g\n",
      "Ignored CDX Line:  CDX N b a m s k r M S V g\n",
      "Ignored CDX Line:  CDX N b a m s k r M S V g\n",
      "Ignored CDX Line:  CDX N b a m s k r M S V g\n",
      "Ignored CDX Line:  CDX N b a m s k r M S V g\n",
      "Read: 201289 lines, Valid: 199743 lines, Ignored: 1546 lines\n"
     ]
    },
    {
     "data": {
      "text/plain": [
       "MapPartitionsRDD[6] at repartition at NativeMethodAccessorImpl.java:-2"
      ]
     },
     "execution_count": 2,
     "metadata": {},
     "output_type": "execute_result"
    }
   ],
   "source": [
    "import sys\n",
    "import os\n",
    "\n",
    "cdx_data = '/search/ait/ferguson-combined/cdx/FERGYTV*cdx.gz'\n",
    "num_partitions = 40\n",
    "\n",
    "def parse_cdx_data():\n",
    "    \"\"\" Read and parse CDX files \"\"\"\n",
    "    parsed_cdx     = (sc\n",
    "                      .textFile(cdx_data)\n",
    "                      .map(parse_cdx_line)\n",
    "                      .repartition(num_partitions)\n",
    "                      .cache())\n",
    "\n",
    "    cdx            = (parsed_cdx\n",
    "                      .filter(lambda s: s[1] == 1)\n",
    "                      .map(lambda s: s[0])\n",
    "                      .cache())\n",
    "\n",
    "    ignored_cdx    = (parsed_cdx\n",
    "                      .filter(lambda s: s[1] == 0)\n",
    "                      .map(lambda s: s[0]))\n",
    "\n",
    "    ignored_cdx_count = ignored_cdx.count()\n",
    "    if ignored_cdx_count > 0:\n",
    "        print('Number of ignored CDX Lines: %d' % ignored_cdx_count)\n",
    "        for line in ignored_cdx.take(20):\n",
    "            print('Ignored CDX Line: %s' % line)\n",
    "\n",
    "    print('Read: %d lines, Valid: %d lines, Ignored: %d lines' % (parsed_cdx.count(), cdx.count(), ignored_cdx.count()))\n",
    "    return parsed_cdx, cdx, ignored_cdx\n",
    "\n",
    "parsed_cdx, cdx, ignored_cdx = parse_cdx_data()\n",
    "parsed_cdx.unpersist()\n"
   ]
  },
  {
   "cell_type": "markdown",
   "metadata": {},
   "source": [
    "### **Part 2: Sample Analyses on the CDX File**\n",
    " \n",
    "####Now that we have an RDD containing the CDX file as a set of Row objects, we can perform various analyses.\n",
    " \n",
    "#### **(2a) Example: Content Size Statistics**\n",
    " \n",
    "####Let's compute some statistics about the sizes of content crawled. In particular, we'd like to know what are the average, minimum, and maximum content sizes.\n",
    " \n",
    "####We can compute the statistics by applying a `map` to the `cdx` RDD. The `lambda` function we want for the map is to extract the `compressed_size` field from the RDD. The map produces a new RDD containing only the `compressed_sizes` (one element for each Row object in the `cdx` RDD). To compute the minimum and maximum statistics, we can use [`min()`](http://spark.apache.org/docs/latest/api/python/pyspark.html#pyspark.RDD.min) and [`max()`](http://spark.apache.org/docs/latest/api/python/pyspark.html#pyspark.RDD.max) functions on the new RDD. We can compute the average statistic by using the [`reduce`](http://spark.apache.org/docs/latest/api/python/pyspark.html#pyspark.RDD.reduce) function with a `lambda` function that sums the two inputs, which represent two elements from the new RDD that are being reduced together. The result of the `reduce()` is the total content size from the log and it is to be divided by the number of requests as determined using the [`count()`](http://spark.apache.org/docs/latest/api/python/pyspark.html#pyspark.RDD.count) function on the new RDD."
   ]
  },
  {
   "cell_type": "code",
   "execution_count": 3,
   "metadata": {
    "collapsed": false
   },
   "outputs": [
    {
     "name": "stdout",
     "output_type": "stream",
     "text": [
      "Content Size Avg: 9602349, Min: 632, Max: 1991664798\n"
     ]
    }
   ],
   "source": [
    "# Calculate statistics based on the content size.\n",
    "content_sizes = cdx.map(lambda line: line.compressed_size).cache()\n",
    "print('Content Size Avg: %i, Min: %i, Max: %s' % (\n",
    "    content_sizes.reduce(lambda a, b : a + b) / content_sizes.count(),\n",
    "    content_sizes.min(),\n",
    "    content_sizes.max()))"
   ]
  },
  {
   "cell_type": "markdown",
   "metadata": {},
   "source": [
    "#### **(2b) Example: Response Code Analysis**\n",
    "####Next, lets look at the response codes that appear in the CDX. As with the content size analysis, first we create a new RDD by using a `lambda` function to extract the `response_code` field from the `cdx` RDD. The difference here is that we will use a [pair tuple](https://docs.python.org/2/tutorial/datastructures.html?highlight=tuple#tuples-and-sequences) instead of just the field itself. Using a pair tuple consisting of the response code and 1 will let us count how many records have a particular response code. Using the new RDD, we perform a [`reduceByKey`](http://spark.apache.org/docs/latest/api/python/pyspark.html#pyspark.RDD.reduceByKey) function. `reduceByKey` performs a reduce on a per-key basis by applying the `lambda` function to each element, pairwise with the same key. We use the simple `lambda` function of adding the two values. Then, we cache the resulting RDD and create a list by using the [`take`](http://spark.apache.org/docs/latest/api/python/pyspark.html#pyspark.RDD.take) function."
   ]
  },
  {
   "cell_type": "code",
   "execution_count": 4,
   "metadata": {
    "collapsed": false
   },
   "outputs": [
    {
     "name": "stdout",
     "output_type": "stream",
     "text": [
      "Found 2 response codes\n",
      "Response Code Counts: [('2', 178943), ('3', 20800)]\n"
     ]
    }
   ],
   "source": [
    "def getTopLevelResponseCode(response_code):\n",
    "    top_level_response_code = response_code[0]\n",
    "    if top_level_response_code not in ['2', '3', '4', '5']:\n",
    "        top_level_response_code = '-'\n",
    "    return top_level_response_code\n",
    "\n",
    "# Response Code to Count\n",
    "responseCodeToCount = (cdx\n",
    "                       .map(lambda line: (getTopLevelResponseCode(line.response_code), 1))\n",
    "                       .reduceByKey(lambda a, b : a + b)\n",
    "                       .cache())\n",
    "responseCodeToCountList = responseCodeToCount.take(100)\n",
    "print('Found %d response codes' % len(responseCodeToCountList))\n",
    "print('Response Code Counts: %s' % responseCodeToCountList)\n"
   ]
  },
  {
   "cell_type": "markdown",
   "metadata": {},
   "source": [
    "#### **(2c) Example: Response Code Graphing with `matplotlib`**\n",
    "####Now, lets visualize the results from the last example. We can visualize the results from the last example using [`matplotlib`](http://matplotlib.org/). First we need to extract the labels and fractions for the graph. We do this with two separate `map` functions with a `lambda` functions. The first `map` function extracts a list of of the response code values, and the second `map` function extracts a list of the per response code counts  divided by the total size of the CDX lines. Next, we create a figure with `figure()` constructor and use the `pie()` method to create the pie plot."
   ]
  },
  {
   "cell_type": "code",
   "execution_count": 5,
   "metadata": {
    "collapsed": false
   },
   "outputs": [
    {
     "name": "stdout",
     "output_type": "stream",
     "text": [
      "['2', '3']\n",
      "[0.8958661880516464, 0.10413381194835364]\n"
     ]
    }
   ],
   "source": [
    "labels = responseCodeToCount.map(lambda x: x[0]).collect()\n",
    "print(labels)\n",
    "count = cdx.count()\n",
    "fracs = responseCodeToCount.map(lambda x: (float(x[1]) / count)).collect()\n",
    "print(fracs)"
   ]
  },
  {
   "cell_type": "code",
   "execution_count": 7,
   "metadata": {
    "collapsed": false
   },
   "outputs": [
    {
     "data": {
      "image/png": "[encoded data removed]",
      "text/plain": [
       "<matplotlib.figure.Figure at 0x7f0fbcd7b5c0>"
      ]
     },
     "metadata": {},
     "output_type": "display_data"
    }
   ],
   "source": [
    "from matplotlib import pyplot as plt\n",
    "plt.switch_backend('agg')\n",
    "%matplotlib inline\n",
    "\n",
    "def pie_pct_format(value):\n",
    "    \"\"\" Determine the appropriate format string for the pie chart percentage label\n",
    "    Args:\n",
    "        value: value of the pie slice\n",
    "    Returns:\n",
    "        str: formated string label; if the slice is too small to fit, returns an empty string for label\n",
    "    \"\"\"\n",
    "    return '' if value < 7 else '%.0f%%' % value\n",
    "\n",
    "fig = plt.figure(figsize=(4.5, 4.5), facecolor='white', edgecolor='white')\n",
    "#colors = ['yellowgreen', 'lightskyblue', 'gold', 'purple', 'lightcoral']\n",
    "#explode = (0.05, 0.05, 0.1, 0, 0)\n",
    "colors = ['yellowgreen', 'lightskyblue']\n",
    "explode = (0.05, 0.05)\n",
    "\n",
    "\n",
    "#colors = ['yellowgreen', 'lightskyblue', 'gold', 'purple', 'lightcoral', 'yellow', 'black', 'red']\n",
    "#explode = (0.05, 0.05, 0.1, 0, 0, 0, 0, 0)\n",
    "\n",
    "patches, texts, autotexts = plt.pie(fracs, labels=labels, colors=colors,\n",
    "                                    explode=explode, autopct=pie_pct_format,\n",
    "                                    shadow=False,  startangle=125)\n",
    "for text, autotext in zip(texts, autotexts):\n",
    "    if autotext.get_text() == '':\n",
    "        text.set_text('')  # If the slice is small to fit, don't show a text label\n",
    "plt.legend(labels, loc=(0.80, -0.1), shadow=True)\n",
    "pass"
   ]
  },
  {
   "cell_type": "markdown",
   "metadata": {},
   "source": [
    "#### **(2d) Example: Frequent Hosts**\n",
    "####Let's look at hosts that have been crawled multiple times (e.g., more than ten times). As with the response code analysis in (2b), first we create a new RDD by using a `lambda` function to extract the `host` field (using `url` field) from the `cdx` RDD using a pair tuple consisting of the host and 1 which will let us count how many records per host. Using the new RDD, we perform a `reduceByKey` function with a `lambda` function that adds the two values. "
   ]
  },
  {
   "cell_type": "code",
   "execution_count": 8,
   "metadata": {
    "collapsed": false
   },
   "outputs": [
    {
     "name": "stdout",
     "output_type": "stream",
     "text": [
      "Any 20 hosts that have been crawled more then 10 times: ['r6---sn-a5m7zu7l.googlevideo.com', 'r15---sn-nwj7kner.googlevideo.com', 'r8---sn-a5m7zu7s.googlevideo.com', 'r8---sn-a5m7zu7k.googlevideo.com', 'r16---sn-nwj7kner.googlevideo.com', 'r19---sn-nwj7knl7.googlevideo.com', 'r18---sn-o097znle.googlevideo.com', 'r2---sn-nwj7knls.googlevideo.com', 'r5---sn-nwj7knl7.googlevideo.com', 'r5---sn-a5m7zu76.googlevideo.com', 'r18---sn-nwj7knl7.googlevideo.com', 'r15---sn-nwj7knek.googlevideo.com', 'r7---sn-o097znle.googlevideo.com', 'r13---sn-nwj7kne6.googlevideo.com', 'r4---sn-nwj7kned.googlevideo.com', 'r17---sn-nwj7knls.googlevideo.com', 'r1---sn-a5m7zu76.googlevideo.com', 'r3---sn-o097znle.googlevideo.com', 'r2---sn-nwj7kned.googlevideo.com', 'r16---sn-nwj7knek.googlevideo.com']\n"
     ]
    }
   ],
   "source": [
    "def getHostFromSurtUrl(surtUrl):\n",
    "   host = None\n",
    "   if not surtUrl:\n",
    "      return None\n",
    "   surtUrlParts = surtUrl.split('/')\n",
    "   surtHost = surtUrlParts[0]\n",
    "   #strip away any text after whitespace\n",
    "   surtHostParts = surtHost.split()\n",
    "   if len(surtHostParts) == 0:\n",
    "      return None\n",
    "   surtHost = surtHostParts[0]\n",
    "   #strip away port number\n",
    "   surtHostParts = surtHost.split(':')\n",
    "   surtHost = surtHostParts[0]\n",
    "   surtHost = surtHost.replace(\")\",\"\")\n",
    "   surtHostParts = surtHost.split(',')\n",
    "   surtHostParts.reverse()\n",
    "   host = '.'.join(surtHostParts)\n",
    "   return host\n",
    "\n",
    "hostCountPairTuple = cdx.map(lambda line: (getHostFromSurtUrl(line.surt_url), 1))\n",
    "hostSum = hostCountPairTuple.reduceByKey(lambda a, b : a + b)\n",
    "hostMoreThan10 = hostSum.filter(lambda s: s[1] > 10)\n",
    "hostsPick20 = (hostMoreThan10\n",
    "               .map(lambda s: s[0])\n",
    "               .take(20))\n",
    "\n",
    "print('Any 20 hosts that have been crawled more then 10 times: %s' % hostsPick20)\n",
    "# An example: [u'204.120.34.185', u'204.243.249.9', u'slip1-32.acs.ohio-state.edu', u'lapdog-14.baylor.edu', u'199.77.67.3', u'gs1.cs.ttu.edu', u'haskell.limbex.com', u'alfred.uib.no', u'146.129.66.31', u'manaus.bologna.maraut.it', u'dialup98-110.swipnet.se', u'slip-ppp02.feldspar.com', u'ad03-053.compuserve.com', u'srawlin.opsys.nwa.com', u'199.202.200.52', u'ix-den7-23.ix.netcom.com', u'151.99.247.114', u'w20-575-104.mit.edu', u'205.25.227.20', u'ns.rmc.com']"
   ]
  },
  {
   "cell_type": "markdown",
   "metadata": {},
   "source": [
    "#### **(2e) Example: Top MIME types**\n",
    "####For the final example, we'll look at the top MIME types in the CDX. To determine them, we first create a new RDD by using a `lambda` function to extract the `mime` field from the `cdx` RDD using a pair tuple consisting of the MIME and 1 which will let us count how many records were crawled per MIME. Using the new RDD, we perform a `reduceByKey` function with a `lambda` function that adds the two values. We then extract the top ten MIME by performing a [`takeOrdered`](http://spark.apache.org/docs/latest/api/python/pyspark.html#pyspark.RDD.takeOrdered) with a value of 3 and a `lambda` function that multiplies the count (the second element of each pair) by -1 to create a sorted list with the top MIME types at the bottom."
   ]
  },
  {
   "cell_type": "code",
   "execution_count": 9,
   "metadata": {
    "collapsed": false
   },
   "outputs": [
    {
     "name": "stdout",
     "output_type": "stream",
     "text": [
      "Top Three MIME: [('image/jpeg', 63275), ('text/html', 55927), ('application/x-www-form-urlencoded', 35126)]\n"
     ]
    }
   ],
   "source": [
    "mimeCounts = (cdx\n",
    "              .map(lambda line: (line.mime, 1))\n",
    "              .reduceByKey(lambda a, b : a + b))\n",
    "topMimes = mimeCounts.takeOrdered(3, lambda s: -1 * s[1])\n",
    "print('Top Three MIME: %s' % topMimes)\n"
   ]
  },
  {
   "cell_type": "markdown",
   "metadata": {},
   "source": [
    "### **Part 3: Analyzing CDX File**\n"
   ]
  },
  {
   "cell_type": "markdown",
   "metadata": {},
   "source": [
    "#### **(3a) Exercise: Top Ten Error Hosts**\n",
    "####What are the top ten hosts which returned a 404? Create a sorted list containing top ten hosts and the number of times that they were crawled with 404 response code."
   ]
  },
  {
   "cell_type": "code",
   "execution_count": 10,
   "metadata": {
    "collapsed": false
   },
   "outputs": [
    {
     "name": "stdout",
     "output_type": "stream",
     "text": [
      "Top Ten error Hosts: []\n"
     ]
    }
   ],
   "source": [
    "errors404 = cdx.filter(lambda line: line.response_code == '404')\n",
    "hostCountPairTuple = errors404.map(lambda line: (getHostFromSurtUrl(line.surt_url), 1))\n",
    "hostSum = hostCountPairTuple.reduceByKey(lambda a,b: a + b)\n",
    "topTenErrHosts = hostSum.takeOrdered(10, lambda s: -1 * s[1])\n",
    "print('Top Ten error Hosts: %s' % topTenErrHosts)"
   ]
  },
  {
   "cell_type": "markdown",
   "metadata": {},
   "source": [
    "#### **(3b) Exercise: Number of Unique Hosts**\n",
    "####How many unique hosts are there in the entire CDX?"
   ]
  },
  {
   "cell_type": "code",
   "execution_count": 11,
   "metadata": {
    "collapsed": false
   },
   "outputs": [
    {
     "name": "stdout",
     "output_type": "stream",
     "text": [
      "Unique hosts: 255\n"
     ]
    }
   ],
   "source": [
    "hosts = cdx.map(lambda line: (getHostFromSurtUrl(line.surt_url), 1))\n",
    "uniqueHosts = hosts.reduceByKey(lambda a,b: a + b)\n",
    "uniqueHostCount = uniqueHosts.count()\n",
    "print('Unique hosts: %d' % uniqueHostCount)"
   ]
  },
  {
   "cell_type": "markdown",
   "metadata": {},
   "source": [
    "#### **(3c) Exercise: Number of Unique Daily Hosts**\n",
    "####Let's determine the number of unique hosts in the entire CDX on a day-by-day basis. This computation will give us counts of the number of unique daily hosts. We'd like a list sorted by increasing day of year and the associated number of unique hosts for that day. Make sure you cache the resulting RDD `dailyHosts` so that we can reuse it in the next exercise."
   ]
  },
  {
   "cell_type": "code",
   "execution_count": 12,
   "metadata": {
    "collapsed": false
   },
   "outputs": [
    {
     "name": "stdout",
     "output_type": "stream",
     "text": [
      "Unique hosts per day: [(37, 227), (38, 234), (39, 240), (40, 233)]\n"
     ]
    }
   ],
   "source": [
    "dayToHostPairTuple = cdx.map(lambda line: (line.timestamp.timetuple().tm_yday, getHostFromSurtUrl(line.surt_url)))\n",
    "dayGroupedHosts = dayToHostPairTuple.distinct()\n",
    "dayHostCount = dayGroupedHosts.groupByKey()\n",
    "dailyHosts = dayHostCount.map(lambda kv: (kv[0], len(kv[1]))).sortByKey().cache()\n",
    "dailyHostsList = dailyHosts.take(30)\n",
    "print('Unique hosts per day: %s' % dailyHostsList)"
   ]
  },
  {
   "cell_type": "markdown",
   "metadata": {},
   "source": [
    "#### Exercise: Visualizing the Number of Unique Daily Hosts**\n",
    "####Using the results from the previous exercise, use `matplotlib` to plot a \"Line\" graph of the unique hosts requests by day.\n",
    "#### `daysWithHosts` should be a list of days and `hosts` should be a list of number of unique hosts for each corresponding day.\n",
    "#### * How could you convert a RDD into a list? See the [`collect()` method](http://spark.apache.org/docs/latest/api/python/pyspark.html?highlight=collect#pyspark.RDD.collect)*"
   ]
  },
  {
   "cell_type": "code",
   "execution_count": 13,
   "metadata": {
    "collapsed": false
   },
   "outputs": [],
   "source": [
    "daysWithHosts = dailyHosts.map(lambda x: x[0]).collect()\n",
    "hosts = dailyHosts.map(lambda x: x[1]).collect()"
   ]
  },
  {
   "cell_type": "code",
   "execution_count": 14,
   "metadata": {
    "collapsed": false
   },
   "outputs": [
    {
     "data": {
      "image/png": "[encoded data removed]",
      "text/plain": [
       "<matplotlib.figure.Figure at 0x7f0fb04219e8>"
      ]
     },
     "metadata": {},
     "output_type": "display_data"
    }
   ],
   "source": [
    "fig = plt.figure(figsize=(8,4.5), facecolor='white', edgecolor='white')\n",
    "plt.axis([min(daysWithHosts), max(daysWithHosts), 0, max(hosts)+500])\n",
    "plt.grid(b=True, which='major', axis='y')\n",
    "plt.xlabel('Day')\n",
    "plt.ylabel('Hosts')\n",
    "plt.plot(daysWithHosts, hosts)\n",
    "pass"
   ]
  },
  {
   "cell_type": "markdown",
   "metadata": {},
   "source": [
    "#### **(3e) Exercise: Average Number of Daily captures crawled per Host**\n",
    "####Next, let's determine the average number of crawled URLs on a day-by-day basis. We'd like a list by increasing day of the month and the associated average number of crawled URLs per host for that day. Make sure you cache the resulting RDD `avgDailyCapturesPerHost` so that we can reuse it in the next exercise.\n",
    "####To compute the average number of captures per host, get the total number of captures across all hosts and divide that by the number of unique hosts."
   ]
  },
  {
   "cell_type": "code",
   "execution_count": 15,
   "metadata": {
    "collapsed": false
   },
   "outputs": [
    {
     "name": "stdout",
     "output_type": "stream",
     "text": [
      "Average number of daily captures per Host is [(37, 66.6784140969163), (38, 298.87179487179486), (39, 291.6875), (40, 191.69957081545064)]\n"
     ]
    }
   ],
   "source": [
    "dayAndHostTuple = cdx.map(lambda line: (line.timestamp.timetuple().tm_yday, getHostFromSurtUrl(line.surt_url)))\n",
    "groupedByDay = dayAndHostTuple.groupByKey()\n",
    "sortedByDay = groupedByDay.sortByKey()\n",
    "avgDailyCapturesPerHost = (sortedByDay\n",
    "                           .map(lambda x: (x[0], len(x[1]) / len(list(set(x[1])))))).cache()\n",
    "avgDailyCapturesPerHostList = avgDailyCapturesPerHost.take(30)\n",
    "print('Average number of daily captures per Host is %s' % avgDailyCapturesPerHostList)"
   ]
  },
  {
   "cell_type": "markdown",
   "metadata": {},
   "source": [
    "#### **(3f) Exercise: Visualizing the Average Daily Captures per Unique Host**\n",
    "####Using the result `avgDailyCapturesPerHost` from the previous exercise, use `matplotlib` to plot a \"Line\" graph of the average daily captures per unique host by day.\n",
    "#### `daysWithAvg` should be a list of days and `avgs` should be a list of average daily captures per unique host for each corresponding day."
   ]
  },
  {
   "cell_type": "code",
   "execution_count": 16,
   "metadata": {
    "collapsed": false
   },
   "outputs": [],
   "source": [
    "daysWithAvg = avgDailyCapturesPerHost.map(lambda kv: kv[0]).collect()\n",
    "avgs = avgDailyCapturesPerHost.map(lambda kv: kv[1]).collect()"
   ]
  },
  {
   "cell_type": "code",
   "execution_count": 17,
   "metadata": {
    "collapsed": false
   },
   "outputs": [
    {
     "data": {
      "image/png": "[encoded data removed]",
      "text/plain": [
       "<matplotlib.figure.Figure at 0x7f0fb0384128>"
      ]
     },
     "metadata": {},
     "output_type": "display_data"
    }
   ],
   "source": [
    "fig = plt.figure(figsize=(8,4.2), facecolor='white', edgecolor='white')\n",
    "plt.axis([0, max(daysWithAvg), 0, max(avgs)+2])\n",
    "plt.grid(b=True, which='major', axis='y')\n",
    "plt.xlabel('Day')\n",
    "plt.ylabel('Average')\n",
    "plt.plot(daysWithAvg, avgs)\n",
    "pass"
   ]
  }
 ],
 "metadata": {
  "kernelspec": {
   "display_name": "pySpark (Spark 1.4.0)",
   "language": "python",
   "name": "pyspark"
  },
  "language_info": {
   "codemirror_mode": {
    "name": "ipython",
    "version": 3
   },
   "file_extension": ".py",
   "mimetype": "text/x-python",
   "name": "python",
   "nbconvert_exporter": "python",
   "pygments_lexer": "ipython3",
   "version": "3.4.0"
  }
 },
 "nbformat": 4,
 "nbformat_minor": 0
}
